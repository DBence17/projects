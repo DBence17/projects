{
  "nbformat": 4,
  "nbformat_minor": 0,
  "metadata": {
    "colab": {
      "provenance": []
    },
    "kernelspec": {
      "name": "python3",
      "display_name": "Python 3"
    },
    "language_info": {
      "name": "python"
    }
  },
  "cells": [
    {
      "cell_type": "code",
      "execution_count": null,
      "metadata": {
        "id": "fOimEI33qH9S"
      },
      "outputs": [],
      "source": [
        "import numpy as np\n",
        "import sympy as sp\n",
        "import math\n",
        "import matplotlib.pyplot as plt"
      ]
    },
    {
      "cell_type": "code",
      "source": [
        "#Adatok\n",
        "d=0.02\n",
        "ro=7800\n",
        "tomeg=0.1\n",
        "e=0.4\n",
        "l1=0.2\n",
        "l2=0.1\n",
        "l3=0.15\n",
        "l4=0.3\n",
        "k1=56\n",
        "k2=105\n",
        "kt=10\n",
        "c1=4\n",
        "r0=0.04\n",
        "omega=25\n",
        "g=9.81"
      ],
      "metadata": {
        "id": "KGtcApw0qO81"
      },
      "execution_count": null,
      "outputs": []
    },
    {
      "cell_type": "code",
      "source": [
        "#Tehetetlenségi nyomaték A-ra\n",
        "mf=(l1+l2)*(pow(d,2)*np.pi*ro)/4\n",
        "print(mf)\n",
        "mv=(l3+l4)*(pow(d,2)*np.pi*ro)/4\n",
        "print(mv)\n",
        "x, y, c= sp.symbols('x y c')\n",
        "t, z, m,k=sp.symbols('t z m k')\n",
        "\n",
        "tehnyomexp=c*(pow(x+y,2)/12+pow((x+y)/2,2))\n",
        "tehnyom1=tehnyomexp.subs(c,mf).subs(x,l1).subs(y,l2)\n",
        "tehnyom2=tehnyomexp.subs(c,mv).subs(x,l3).subs(y,l4)\n",
        "tehnyoma=tehnyom1+tehnyom2\n",
        "tehnyoma"
      ],
      "metadata": {
        "colab": {
          "base_uri": "https://localhost:8080/",
          "height": 71
        },
        "id": "s8fy9PsMs1Xe",
        "outputId": "6f59eefb-063c-4a91-b1ca-b503f43251b7"
      },
      "execution_count": null,
      "outputs": [
        {
          "output_type": "stream",
          "name": "stdout",
          "text": [
            "0.7351326809400117\n",
            "1.1026990214100172\n"
          ]
        },
        {
          "output_type": "execute_result",
          "data": {
            "text/plain": [
              "0.0964861643733765"
            ],
            "text/latex": "$\\displaystyle 0.0964861643733765$"
          },
          "metadata": {},
          "execution_count": 3
        }
      ]
    },
    {
      "cell_type": "code",
      "source": [
        "csillapitas=c*(x+y)*z\n",
        "csillapitas"
      ],
      "metadata": {
        "colab": {
          "base_uri": "https://localhost:8080/",
          "height": 38
        },
        "id": "6ySEVPGX9F74",
        "outputId": "5c22f424-3fd5-4d35-e797-a0769e1042ad"
      },
      "execution_count": null,
      "outputs": [
        {
          "output_type": "execute_result",
          "data": {
            "text/plain": [
              "c*z*(x + y)"
            ],
            "text/latex": "$\\displaystyle c z \\left(x + y\\right)$"
          },
          "metadata": {},
          "execution_count": 4
        }
      ]
    },
    {
      "cell_type": "code",
      "source": [
        "#Sajátkörfrekvencia és relatív csillapítás\n",
        "sajatfrekv=((t*k)/(t+k)*pow(x,2)-m*g*((x+y)/2)+z)/tehnyoma\n",
        "print(sajatfrekv)\n",
        "sajatfrekvencia=math.sqrt(sajatfrekv.subs(t,k1).subs(k,k2).subs(m,mf).subs(x,l1).subs(y,l2).subs(z,kt))\n",
        "print(sajatfrekvencia)\n",
        "relcsill=c*pow(x+y,2)/2*sajatfrekvencia*tehnyoma\n",
        "relativcsillapitas=relcsill.subs(c,c1).subs(x,l1).subs(y,l2)\n",
        "relativcsillapitas"
      ],
      "metadata": {
        "colab": {
          "base_uri": "https://localhost:8080/",
          "height": 71
        },
        "id": "fhrI9sN2BWAH",
        "outputId": "e62b76e8-e0a7-480d-c3df-60c95bb2b7a4"
      },
      "execution_count": null,
      "outputs": [
        {
          "output_type": "stream",
          "name": "stdout",
          "text": [
            "10.3641802583245*k*t*x**2/(k + t) - 101.672608334163*m*(x/2 + y/2) + 10.3641802583245*z\n",
            "10.371648351136354\n"
          ]
        },
        {
          "output_type": "execute_result",
          "data": {
            "text/plain": [
              "0.180129702173508"
            ],
            "text/latex": "$\\displaystyle 0.180129702173508$"
          },
          "metadata": {},
          "execution_count": 5
        }
      ]
    },
    {
      "cell_type": "code",
      "source": [
        "#Grafikonrol olvasas\n",
        "lamb=(1/x)*sp.log(c/y)\n",
        "csill_lambd_graf=lamb.subs(x,3).subs(c,1).subs(y,0.03)\n",
        "print(f'A lambda: {csill_lambd_graf}')\n",
        "csill_tenyezo_graf=c/sp.sqrt(4*pow(math.pi,2)+pow(c,2))\n",
        "csill_tenyezo_graf=csill_tenyezo_graf.subs(c,csill_lambd_graf)\n",
        "print(f'A csillapitasi tenyezo: {csill_tenyezo_graf}')\n",
        "periodus_ido_graf=1.85/3\n",
        "print(f'A periodus ido: {periodus_ido_graf}')\n",
        "csillapitott_korfrekv_graf=2*math.pi/periodus_ido_graf\n",
        "print(f'A csillapitott sajatkorfrekvencia: {csillapitott_korfrekv_graf}')\n",
        "csillapitatlan_korfrekv_graf=csillapitott_korfrekv_graf/math.sqrt(1-pow(csill_tenyezo_graf,2))\n",
        "print(f'A csillapitatlan sajatkorfrekvencia: {csillapitatlan_korfrekv_graf}')"
      ],
      "metadata": {
        "colab": {
          "base_uri": "https://localhost:8080/"
        },
        "id": "NpuTMKBvGgTv",
        "outputId": "ff8f0db8-c42e-4f89-8f21-7808af27e512"
      },
      "execution_count": null,
      "outputs": [
        {
          "output_type": "stream",
          "name": "stdout",
          "text": [
            "A lambda: 1.16885263243999\n",
            "A csillapitasi tenyezo: 0.182890966278272\n",
            "A periodus ido: 0.6166666666666667\n",
            "A csillapitott sajatkorfrekvencia: 10.188949146777707\n",
            "A csillapitatlan sajatkorfrekvencia: 10.363752457680713\n"
          ]
        }
      ]
    },
    {
      "cell_type": "code",
      "source": [
        "#Ütközés\n",
        "redukalt_tomeg=tehnyoma/pow(l3+l4,2)\n",
        "print(f'A redukalt tomeg: {redukalt_tomeg}')\n",
        "golyo_seb_utk_elott=-math.sqrt(2*g*l1)\n",
        "print(f'A golyo utkozes elotti sebessege: {golyo_seb_utk_elott}')\n",
        "kozossp_seb_normal=golyo_seb_utk_elott*tomeg/(tomeg+redukalt_tomeg)\n",
        "print(f'A kozos sulypont normalis iranyu sebesseg komponense: {kozossp_seb_normal}')\n",
        "talppont_seb_utk_utan=kozossp_seb_normal+e*kozossp_seb_normal\n",
        "print(f'A talppont utkozes utani sebessge: {talppont_seb_utk_utan}')\n",
        "talppont_szogseb=talppont_seb_utk_utan/(l3+l4)\n",
        "print(f'A talppont szogsebessege: {talppont_szogseb}')\n",
        "print('\\nA kezdeti feltetlek:')\n",
        "print('fi(0)=0')\n",
        "print(f'fipont(0)={talppont_szogseb}')"
      ],
      "metadata": {
        "colab": {
          "base_uri": "https://localhost:8080/"
        },
        "id": "aqUXMpf59FYg",
        "outputId": "dc2d9d6b-14cd-4e54-e5df-347a390808af"
      },
      "execution_count": null,
      "outputs": [
        {
          "output_type": "stream",
          "name": "stdout",
          "text": [
            "A redukalt tomeg: 0.476474885794452\n",
            "A golyo utkozes elotti sebessege: -1.9809088823063015\n",
            "A kozos sulypont normalis iranyu sebesseg komponense: -0.343624489309082\n",
            "A talppont utkozes utani sebessge: -0.481074285032715\n",
            "A talppont szogsebessege: -1.06905396673937\n",
            "\n",
            "A kezdeti feltetlek:\n",
            "fi(0)=0\n",
            "fipont(0)=-1.06905396673937\n"
          ]
        }
      ]
    },
    {
      "cell_type": "code",
      "source": [
        "#Differencial egyenletek felirasa es a partikularis megoldas felirasa\n",
        "csillapitottkorfrekv=sajatfrekvencia*math.sqrt(1-pow(relativcsillapitas,2))\n",
        "print(f'A csillapitott sajatkorfrekvencia: {csillapitottkorfrekv}')\n",
        "homogen=pow(math.e,-relativcsillapitas*sajatfrekvencia*t)*(x*sp.cos(csillapitottkorfrekv*t)+y*sp.sin(csillapitottkorfrekv*t))\n",
        "A=sp.symbols('A')\n",
        "partikularis=A*sp.sin(omega*t-x)\n",
        "frekvencia_hanyados=omega/sajatfrekvencia\n",
        "print(f'A frekvencia hanyados: {frekvencia_hanyados}')\n",
        "nagyitas=1/math.sqrt(pow(1-pow(frekvencia_hanyados,2),2)+4*pow(relativcsillapitas,2)*pow(frekvencia_hanyados,2))\n",
        "print(f'A nagyitas: {nagyitas}')\n",
        "keredo=k1*k2/(k1+k2)\n",
        "print(f'Az eredo rugomerevseg: {keredo}')\n",
        "statikus_def=keredo*l1*r0/(pow(sajatfrekvencia,2)*tehnyoma)\n",
        "print(f'A statikus deformacio: {statikus_def}')\n",
        "amplitudo=nagyitas*statikus_def\n",
        "print(f'A gerjesztett rezges amplitudoja: {amplitudo}')\n",
        "faziseltolas=math.atan(2*relativcsillapitas*frekvencia_hanyados/(1-pow(frekvencia_hanyados,2)))+math.pi\n",
        "print(f'A faziseltolas: {faziseltolas}')\n",
        "partikularis_megoldas=partikularis.subs(A,amplitudo).subs(x,faziseltolas)\n",
        "partikularis_megoldas"
      ],
      "metadata": {
        "colab": {
          "base_uri": "https://localhost:8080/",
          "height": 157
        },
        "id": "tlqFNJAw_qms",
        "outputId": "2bfc328c-e6c6-4e11-9e3d-ca170eea9ce8"
      },
      "execution_count": null,
      "outputs": [
        {
          "output_type": "stream",
          "name": "stdout",
          "text": [
            "A csillapitott sajatkorfrekvencia: 10.201997922763953\n",
            "A frekvencia hanyados: 2.410417240694524\n",
            "A nagyitas: 0.20458820685484538\n",
            "Az eredo rugomerevseg: 36.52173913043478\n",
            "A statikus deformacio: 0.0281501573990292\n",
            "A gerjesztett rezges amplitudoja: 0.00575919022494905\n",
            "A faziseltolas: 2.9629851695975757\n"
          ]
        },
        {
          "output_type": "execute_result",
          "data": {
            "text/plain": [
              "0.00575919022494905*sin(25*t - 2.96298516959758)"
            ],
            "text/latex": "$\\displaystyle 0.00575919022494905 \\sin{\\left(25 t - 2.96298516959758 \\right)}$"
          },
          "metadata": {},
          "execution_count": 8
        }
      ]
    },
    {
      "cell_type": "code",
      "source": [
        "#Inhomogen + kezdeti ertek problemna megoldása\n",
        "mozgase=homogen+partikularis\n",
        "C1=-amplitudo*sp.sin(-faziseltolas)\n",
        "print(f'A C1 konstans: {C1}')\n",
        "C2=(talppont_szogseb+relativcsillapitas*sajatfrekvencia*C1-amplitudo*omega*sp.cos(-faziseltolas))/csillapitottkorfrekv\n",
        "print(f'A C2 konstans: {C2}')\n",
        "homogen_megoldas=homogen.subs(x,C1).subs(y,C2)\n",
        "mozgasegyenlet=homogen_megoldas+partikularis_megoldas\n",
        "mozgasegyenlet"
      ],
      "metadata": {
        "colab": {
          "base_uri": "https://localhost:8080/",
          "height": 93
        },
        "id": "zx-Fkyv9GMwk",
        "outputId": "c73a4abb-8fe7-47cb-b9ac-ff8ecc71817e"
      },
      "execution_count": null,
      "outputs": [
        {
          "output_type": "stream",
          "name": "stdout",
          "text": [
            "A C1 konstans: 0.00102317417733131\n",
            "A C2 konstans: -0.0907129275426123\n"
          ]
        },
        {
          "output_type": "execute_result",
          "data": {
            "text/plain": [
              "0.00575919022494905*sin(25*t - 2.96298516959758) + (-0.0907129275426123*sin(10.201997922764*t) + 0.00102317417733131*cos(10.201997922764*t))/2.71828182845905**(1.86824192853855*t)"
            ],
            "text/latex": "$\\displaystyle 0.00575919022494905 \\sin{\\left(25 t - 2.96298516959758 \\right)} + 2.71828182845905^{- 1.86824192853855 t} \\left(- 0.0907129275426123 \\sin{\\left(10.201997922764 t \\right)} + 0.00102317417733131 \\cos{\\left(10.201997922764 t \\right)}\\right)$"
          },
          "metadata": {},
          "execution_count": 9
        }
      ]
    },
    {
      "cell_type": "code",
      "source": [
        "#Grafikon\n",
        "def plot():\n",
        "  x=[]\n",
        "  y=[]\n",
        "  i=0\n",
        "  j=0\n",
        "  while j<5:\n",
        "    x.append(j)\n",
        "    y.append(mozgasegyenlet.subs(t,x[i]))\n",
        "    #print(y)\n",
        "    #plt.plot(x,y)\n",
        "    i+=1\n",
        "    j+=0.005\n",
        "  plt.xlabel('t[s]')\n",
        "  plt.ylabel('φ(t)')\n",
        "  plt.plot(x,y)\n",
        "  plt.show()\n",
        "\n",
        "plot()"
      ],
      "metadata": {
        "colab": {
          "base_uri": "https://localhost:8080/",
          "height": 449
        },
        "id": "cZP0M1TAJw3g",
        "outputId": "8830c5ab-25fb-473f-ac7b-ad629d598982"
      },
      "execution_count": null,
      "outputs": [
        {
          "output_type": "display_data",
          "data": {
            "text/plain": [
              "<Figure size 640x480 with 1 Axes>"
            ],
            "image/png": "[encoded data removed]"
          },
          "metadata": {}
        }
      ]
    }
  ]
}