{
  "nbformat": 4,
  "nbformat_minor": 0,
  "metadata": {
    "colab": {
      "provenance": []
    },
    "kernelspec": {
      "name": "python3",
      "display_name": "Python 3"
    },
    "language_info": {
      "name": "python"
    }
  },
  "cells": [
    {
      "cell_type": "code",
      "execution_count": null,
      "metadata": {
        "id": "58AXzufCgsiI"
      },
      "outputs": [],
      "source": [
        "#import pandas as pd\n",
        "import numpy as np\n",
        "import sympy as sp\n",
        "import math"
      ]
    },
    {
      "cell_type": "code",
      "source": [
        "# Adatok\n",
        "M1=0.5\n",
        "M2=0.7\n",
        "M3=0.6\n",
        "M4=0.2\n",
        "L1=0.2\n",
        "L2=0.3\n",
        "r=0.05\n",
        "Kt=9\n",
        "K1=320\n",
        "K2=420\n",
        "m0=0.03\n",
        "E=0.01\n",
        "M0=6\n",
        "eps=math.pi/5\n",
        "omegameg=135\n",
        "gr=9.81\n",
        "#yb=0\n",
        "#xa=0\n",
        "#yb,xa=sp.symbols('yb,xa')\n",
        "#altkoord=[yb,xa]\n",
        "#q=np.array(altkoord)"
      ],
      "metadata": {
        "id": "jZVLP0YChCRD"
      },
      "execution_count": null,
      "outputs": []
    },
    {
      "cell_type": "code",
      "source": [
        "# Mozgásegyenlet\n",
        "yb,xa,ybder,xader,tomeg0,tomeg1,tomeg3,tomeg4,teta0,tetad,e,omega,t,sugar,hossz1,hossz2,grav,torzmer,mer1,mer2,konst=sp.symbols('yb,xa,ybp,xap,m0,m1,m3,m4,Θ0,Θd,e,ω,t,R,l1,l2,g,kt,k1,k2,U0')\n",
        "kinetikusenergia=1/2*tomeg3*pow(xader,2)+1/2*tetad*pow(xader/sugar,2)+1/2*tomeg4*pow(ybder,2)+1/2*teta0*pow(xader/hossz1,2)+1/2*tomeg0*(pow(e*omega,2)+pow(ybder,2)-2*ybder*omega*e*sp.cos(omega*t))\n",
        "print(f'T={kinetikusenergia}')\n",
        "elsoparcyb=sp.diff(kinetikusenergia,ybder)\n",
        "print(f'ybpont szerinti elso parcialis derivalt: {elsoparcyb}')\n",
        "masodikparcyb=sp.diff(kinetikusenergia,ybder,2)\n",
        "print(f'ybpont szerinti masodik parcialis derivalt: {masodikparcyb}')\n",
        "elsoparcxa=sp.diff(kinetikusenergia,xader)\n",
        "print(f'xapont szerinti elso parcialis derivalt: {elsoparcxa}')\n",
        "masodikparcxa=sp.diff(kinetikusenergia,xader,2)\n",
        "print(f'xapont szerinti masodik parcialis derivalt: {masodikparcxa}')\n",
        "vegyesparcder=sp.diff(kinetikusenergia,xader,ybder)\n",
        "print(f'Vegyes parcialis derivalt: {vegyesparcder}')\n",
        "tehnyom0=1/12*M1*pow(L1,2)+M1*pow(L1/2,2)+1/12*M2*pow(L2,2)+M2*pow(L2/2,2)\n",
        "print(f'Tehetetlenségi nyomaték O-ra: {tehnyom0}')\n",
        "tehnyomd=1/2*M3*pow(r,2)\n",
        "print(f'Tehetetlenségi nyomaték D-re: {tehnyomd}')\n",
        "tomegmatr=[[masodikparcyb.subs(tomeg0,m0).subs(tomeg4,M4),0],[0,masodikparcxa.subs(tomeg3,M3).subs(teta0,tehnyom0).subs(hossz1,L1).subs(tetad,tehnyomd).subs(sugar,r)]]\n",
        "tomegmatrix=np.array(tomegmatr)\n",
        "print(f'A tomegmatrix: {tomegmatrix}')\n",
        "potencialisenergia=-tomeg1*grav*(hossz1/2)*(1-sp.cos(-xa/hossz1))+1/2*mer2*pow(hossz2*xa/hossz1,2)+1/2*mer1*pow((-hossz2*xa/hossz1)-yb,2)+1/2*torzmer*pow(xa/sugar,2)+konst\n",
        "print(f'A potencialis energia: {potencialisenergia}')\n",
        "uelsoparcyb=sp.diff(potencialisenergia,yb)\n",
        "print(f'yb szerinti elso parcialis derivalt: {uelsoparcyb}')\n",
        "umasodikparcyb=sp.diff(potencialisenergia,yb,2)\n",
        "print(f'yb szerinti masodik parcialis derivalt: {umasodikparcyb}')\n",
        "uelsoparcxa=sp.diff(potencialisenergia,xa)\n",
        "print(f'xa szerinti elso parcialis derivalt: {uelsoparcxa}')\n",
        "umasodikparcxa=sp.diff(potencialisenergia,xa,2)\n",
        "print(f'xa szerinti masodik parcialis derivalt: {umasodikparcxa}')\n",
        "uvegyesparcder=sp.diff(potencialisenergia,xa,yb)\n",
        "print(f'Vegyes parcialis derivalt: {uvegyesparcder}')\n",
        "merevsegimatr=[[umasodikparcyb.subs(mer1,K1),uvegyesparcder.subs(mer1,K1).subs(hossz2,L2).subs(hossz1,L1)],[uvegyesparcder.subs(mer1,K1).subs(hossz2,L2).subs(hossz1,L1),umasodikparcxa.subs(grav,gr).subs(tomeg1,M1).subs(xa,0).subs(hossz1,L1).subs(mer1,K1).subs(hossz2,L2).subs(mer2,K2).subs(torzmer,Kt).subs(sugar,r)]]\n",
        "merevsegimatrix=np.array(merevsegimatr)\n",
        "print(f'A merevsegi matrix: {merevsegimatrix}')\n"
      ],
      "metadata": {
        "colab": {
          "base_uri": "https://localhost:8080/"
        },
        "id": "Vzqw_rnLjofJ",
        "outputId": "1028c694-04d0-43b9-8254-85e49922440c"
      },
      "execution_count": null,
      "outputs": [
        {
          "output_type": "stream",
          "name": "stdout",
          "text": [
            "T=0.5*m0*(e**2*ω**2 - 2*e*ybp*ω*cos(t*ω) + ybp**2) + 0.5*m3*xap**2 + 0.5*m4*ybp**2 + 0.5*xap**2*Θ0/l1**2 + 0.5*xap**2*Θd/R**2\n",
            "ybpont szerinti elso parcialis derivalt: 0.5*m0*(-2*e*ω*cos(t*ω) + 2*ybp) + 1.0*m4*ybp\n",
            "ybpont szerinti masodik parcialis derivalt: 1.0*(m0 + m4)\n",
            "xapont szerinti elso parcialis derivalt: 1.0*m3*xap + 1.0*xap*Θ0/l1**2 + 1.0*xap*Θd/R**2\n",
            "xapont szerinti masodik parcialis derivalt: 1.0*(m3 + Θ0/l1**2 + Θd/R**2)\n",
            "Vegyes parcialis derivalt: 0\n",
            "Tehetetlenségi nyomaték O-ra: 0.027666666666666666\n",
            "Tehetetlenségi nyomaték D-re: 0.0007500000000000001\n",
            "A tomegmatrix: [[0.230000000000000 0]\n",
            " [0 1.59166666666667]]\n",
            "A potencialis energia: U0 - g*l1*m1*(1 - cos(xa/l1))/2 + 0.5*k1*(-yb - l2*xa/l1)**2 + 0.5*k2*l2**2*xa**2/l1**2 + 0.5*kt*xa**2/R**2\n",
            "yb szerinti elso parcialis derivalt: 0.5*k1*(2*yb + 2*l2*xa/l1)\n",
            "yb szerinti masodik parcialis derivalt: 1.0*k1\n",
            "xa szerinti elso parcialis derivalt: -g*m1*sin(xa/l1)/2 - 1.0*k1*l2*(-yb - l2*xa/l1)/l1 + 1.0*k2*l2**2*xa/l1**2 + 1.0*kt*xa/R**2\n",
            "xa szerinti masodik parcialis derivalt: -g*m1*cos(xa/l1)/(2*l1) + k1*l2**2/l1**2 + k2*l2**2/l1**2 + kt/R**2\n",
            "Vegyes parcialis derivalt: 1.0*k1*l2/l1\n",
            "A merevsegi matrix: [[320.000000000000 480.000000000000]\n",
            " [480.000000000000 5252.73750000000]]\n"
          ]
        }
      ]
    },
    {
      "cell_type": "code",
      "source": [
        "# Sajatfrekvencia\n",
        "matrix=-pow(omega,2)*tomegmatrix+merevsegimatrix\n",
        "print(f'Ennek kell a determinansa: {matrix}')\n",
        "determinans=sp.Eq(matrix[0][0]*matrix[1][1]-matrix[0][1]*matrix[1][0],0)\n",
        "megoldas=sp.solve(determinans,omega)\n",
        "print(f'A sajat ertekek: {megoldas[2], megoldas[3]}')\n",
        "lengesmatrix1=-pow(megoldas[2],2)*tomegmatrix+merevsegimatrix\n",
        "print(f'A matrix ω1-re: {lengesmatrix1}')\n",
        "lengesmatrix2=-pow(megoldas[3],2)*tomegmatrix+merevsegimatrix\n",
        "print(f'A matrix ω2-re: {lengesmatrix2}')\n",
        "A12,A22=sp.symbols('A12,A22')\n",
        "elsolenges=sp.Eq(lengesmatrix1[0][0]+lengesmatrix1[0][1]*A12,0)\n",
        "print(f'A megoldando egyenlet A12-re: {elsolenges}')\n",
        "elsolengeskep=sp.solve(elsolenges,A12)\n",
        "print(f'A12: {elsolengeskep[0]}')\n",
        "masodiklenges=sp.Eq(lengesmatrix2[0][0]+lengesmatrix2[0][1]*A22,0)\n",
        "print(f'A megoldando egyenlet A22-re: {masodiklenges}')\n",
        "masodiklengeskep=sp.solve(masodiklenges,A22)\n",
        "print(f'A12: {masodiklengeskep[0]}')"
      ],
      "metadata": {
        "colab": {
          "base_uri": "https://localhost:8080/"
        },
        "id": "I3FU6XTKgy6g",
        "outputId": "657d53c3-1b56-4a0a-d97e-cbbaec942ecf"
      },
      "execution_count": null,
      "outputs": [
        {
          "output_type": "stream",
          "name": "stdout",
          "text": [
            "Ennek kell a determinansa: [[320.0 - 0.23*ω**2 480.000000000000]\n",
            " [480.000000000000 5252.7375 - 1.59166666666667*ω**2]]\n",
            "A sajat ertekek: (33.2361814016081, 59.8899808676307)\n",
            "A matrix ω1-re: [[65.9319365430615 480.000000000000]\n",
            " [480.000000000000 3494.51285796104]]\n",
            "A matrix ω2-re: [[-504.966255914789 480.000000000000]\n",
            " [480.000000000000 -456.268111584232]]\n",
            "A megoldando egyenlet A12-re: Eq(480.0*A12 + 65.9319365430615, 0)\n",
            "A12: -0.137358201131378\n",
            "A megoldando egyenlet A22-re: Eq(480.0*A22 - 504.966255914789, 0)\n",
            "A12: 1.05201303315581\n"
          ]
        }
      ]
    },
    {
      "cell_type": "code",
      "source": [
        "# Allandosult allapot\n",
        "Qc=np.array([0,M0*sp.sin(eps)/r])\n",
        "print(f'Qc: {Qc}')\n",
        "Qs=np.array([-m0*E*pow(omegameg,2),M0*sp.cos(eps)/r])\n",
        "print(f'Qs: {Qs}')\n",
        "matrix1=-pow(omegameg,2)*tomegmatrix+merevsegimatrix\n",
        "print(f'A matrix az egyeneletben L-re: {matrix1}')\n",
        "L11,L22,N11,N22=sp.symbols('L11,L22,N11,N22')\n",
        "L_elsoegyenlet=sp.Eq(matrix1[0][0]*L11+matrix1[0][1]*L22,Qc[0])\n",
        "print(f'Az elso egyenlet L1,L2-re: {L_elsoegyenlet}')\n",
        "L_masodikegyenlet=sp.Eq(matrix1[1][0]*L11+matrix1[1][1]*L22,Qc[1])\n",
        "print(f'A masodik egyenlet L1,L2-re: {L_masodikegyenlet}')\n",
        "N_elsoegyenlet=sp.Eq(matrix1[0][0]*N11+matrix1[0][1]*N22,Qs[0])\n",
        "print(f'Az elso egyenlet N1,N2-re: {N_elsoegyenlet}')\n",
        "N_masodikegyenlet=sp.Eq(matrix1[1][0]*N11+matrix1[1][1]*N22,Qs[1])\n",
        "print(f'A masodik egyenlet N1,N2-re: {N_masodikegyenlet}')\n",
        "L_megoldas=sp.solve([L_elsoegyenlet,L_masodikegyenlet],(L11,L22))\n",
        "print(f'A megoldasok L1, L2-re: {L_megoldas}')\n",
        "N_megoldas=sp.solve([N_elsoegyenlet,N_masodikegyenlet],(N11,N22))\n",
        "print(f'A megoldasok N1, N2-re: {N_megoldas}')"
      ],
      "metadata": {
        "colab": {
          "base_uri": "https://localhost:8080/"
        },
        "id": "iEz773D0qUwp",
        "outputId": "89c99c33-db1f-4d0f-b4c0-d00a3ea0e7b1"
      },
      "execution_count": null,
      "outputs": [
        {
          "output_type": "stream",
          "name": "stdout",
          "text": [
            "Qc: [0 70.5342302750968]\n",
            "Qs: [-5.467499999999999 97.0820393249937]\n",
            "A matrix az egyeneletben L-re: [[-3871.75000000000 480.000000000000]\n",
            " [480.000000000000 -23755.3875000000]]\n",
            "Az elso egyenlet L1,L2-re: Eq(-3871.75*L11 + 480.0*L22, 0)\n",
            "A masodik egyenlet L1,L2-re: Eq(480.0*L11 - 23755.3875*L22, 70.5342302750968)\n",
            "Az elso egyenlet N1,N2-re: Eq(-3871.75*N11 + 480.0*N22, -5.4675)\n",
            "A masodik egyenlet N1,N2-re: Eq(480.0*N11 - 23755.3875*N22, 97.0820393249937)\n",
            "A megoldasok L1, L2-re: {L11: -0.000369029452210307, L22: -0.00297664537832345}\n",
            "A megoldasok N1, N2-re: {N11: 0.000907773029608396, N22: -0.00406839535961186}\n"
          ]
        }
      ]
    },
    {
      "cell_type": "code",
      "source": [
        "# Maximalis rugoero az allandosult allapotban\n",
        "statikus_rugoero=(m0+M4)*gr\n",
        "print(f'A statikus rugoero: {statikus_rugoero}')\n",
        "A=math.sqrt(pow(-L2*L_megoldas.get(L22)/L1-L_megoldas.get(L11),2)+pow(-L2*N_megoldas.get(N22)/L1-N_megoldas.get(N11),2))\n",
        "print(f'A: {A}')\n",
        "max_din_rugoero=K1*A\n",
        "print(f'A maximalis dinamikus rugoero: {max_din_rugoero}')\n",
        "max_rugoero=statikus_rugoero+max_din_rugoero\n",
        "print(f'A maximalis rugoero: {max_rugoero}')"
      ],
      "metadata": {
        "colab": {
          "base_uri": "https://localhost:8080/"
        },
        "id": "-TiWR4SyJEz1",
        "outputId": "8f4739b3-19c5-4d03-87af-a1066baf5966"
      },
      "execution_count": null,
      "outputs": [
        {
          "output_type": "stream",
          "name": "stdout",
          "text": [
            "A statikus rugoero: 2.2563000000000004\n",
            "A: 0.00709603318444455\n",
            "A maximalis dinamikus rugoero: 2.270730619022256\n",
            "A maximalis rugoero: 4.5270306190222565\n"
          ]
        }
      ]
    }
  ]
}